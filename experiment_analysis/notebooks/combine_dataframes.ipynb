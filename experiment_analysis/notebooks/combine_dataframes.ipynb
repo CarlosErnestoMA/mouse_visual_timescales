{
 "cells": [
  {
   "cell_type": "code",
   "execution_count": 2,
   "metadata": {},
   "outputs": [
    {
     "name": "stderr",
     "output_type": "stream",
     "text": [
      "2024-07-05 11:28:31,288 | INFO     | notebook | <module> | project directory: /Users/paul/para/5_Archive/information_timescales/repo/_latest/experiment_analysis\n"
     ]
    }
   ],
   "source": [
    "# ------------------------------------------------------------------------------ #\n",
    "# @Author:        F. Paul Spitzner\n",
    "# @Email:         paul.spitzner@ds.mpg.de\n",
    "# @Created:       2023-10-09 16:50:01\n",
    "# @Last Modified: 2023-10-09 16:50:04\n",
    "# ------------------------------------------------------------------------------ #\n",
    "# small demo of how we combined the two separate dataframes that we got from\n",
    "# `analyse_all_units`, where one contained blocks 6, 8, and the other\n",
    "# spontaneous activity\n",
    "# Note that storing of spike-times in the dataframe via hdf5 only works\n",
    "# when spikes are stored in flat numpy arrays, but not as xarrays\n",
    "# -> use `utl.load_spikes(meta_df, format=\"numpy\")`\n",
    "#\n",
    "# These dataframes still need some cleaning, e.g. for cases where the estimation\n",
    "# failed.\n",
    "# ------------------------------------------------------------------------------ #\n",
    "\n",
    "%reload_ext autoreload\n",
    "%autoreload 2\n",
    "%reload_ext ipy_dict_hierarchy\n",
    "%reload_ext watermark\n",
    "\n",
    "import logging\n",
    "logging.basicConfig(\n",
    "    format=\"%(asctime)s | %(levelname)-8s | %(name)-s | %(funcName)-s | %(message)s\",\n",
    "    level=logging.WARNING,\n",
    ")\n",
    "log = logging.getLogger(\"notebook\")\n",
    "log.setLevel(\"DEBUG\")\n",
    "\n",
    "import sys\n",
    "import os\n",
    "import pandas as pd\n",
    "import matplotlib.pyplot as plt\n",
    "\n",
    "from tqdm import tqdm\n",
    "\n",
    "\n",
    "# also needs to be added for each dask-worker\n",
    "extra_path = os.path.abspath('../')\n",
    "sys.path.append(extra_path)\n",
    "log.info(f\"project directory: {extra_path}\")\n",
    "\n",
    "from ana import utility as utl\n",
    "from ana import plot_helper as ph\n",
    "\n",
    "ph.log.setLevel(\"DEBUG\")\n",
    "utl.log.setLevel(\"DEBUG\")\n",
    "\n",
    "data_dir = os.path.abspath(\"/path/to/repo/experiment_analysis/dat/\")\n"
   ]
  },
  {
   "cell_type": "code",
   "execution_count": 4,
   "metadata": {},
   "outputs": [],
   "source": [
    "frame_1 = pd.read_hdf(f\"{data_dir}/all_units_merged_blocks.h5\", key=\"meta_df\")\n",
    "frame_1.set_index(['unit_id', 'stimulus', 'session', 'block'], inplace=True)\n",
    "\n",
    "frame_2 = pd.read_hdf(f\"{data_dir}/all_units_spontaneous_for_merged.h5\", key=\"meta_df\")\n",
    "frame_2.set_index(['unit_id', 'stimulus', 'session', 'block'], inplace=True)\n",
    "\n",
    "frame_target = pd.concat([frame_1, frame_2], axis=0)\n",
    "frame_target.to_hdf(f\"{data_dir}/all_units_merged_blocks_with_spont.h5\", key=\"meta_df\")"
   ]
  },
  {
   "cell_type": "code",
   "execution_count": 11,
   "metadata": {},
   "outputs": [
    {
     "name": "stdout",
     "output_type": "stream",
     "text": [
      "Python implementation: CPython\n",
      "Python version       : 3.11.4\n",
      "IPython version      : 8.14.0\n",
      "\n",
      "numpy         : 1.24.4\n",
      "logging       : 0.5.1.2\n",
      "pandas        : 2.0.3\n",
      "matplotlib    : 3.7.2\n",
      "re            : 2.2.1\n",
      "sys           : 3.11.4 | packaged by conda-forge | (main, Jun 10 2023, 18:08:41) [Clang 15.0.7 ]\n",
      "h5py          : 3.9.0\n",
      "sqlite3       : 2.6.0\n",
      "IPython       : 8.14.0\n",
      "prompt_toolkit: 3.0.39\n",
      "xarray        : 2023.7.0\n",
      "dask          : 2023.7.1\n",
      "\n"
     ]
    }
   ],
   "source": [
    "%watermark -v --iversions"
   ]
  }
 ],
 "metadata": {
  "kernelspec": {
   "display_name": "its",
   "language": "python",
   "name": "python3"
  },
  "language_info": {
   "codemirror_mode": {
    "name": "ipython",
    "version": 3
   },
   "file_extension": ".py",
   "mimetype": "text/x-python",
   "name": "python",
   "nbconvert_exporter": "python",
   "pygments_lexer": "ipython3",
   "version": "3.11.9"
  },
  "orig_nbformat": 4
 },
 "nbformat": 4,
 "nbformat_minor": 2
}
