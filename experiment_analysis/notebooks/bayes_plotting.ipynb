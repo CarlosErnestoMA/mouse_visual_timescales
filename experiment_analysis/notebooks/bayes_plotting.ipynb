{
 "cells": [
  {
   "cell_type": "code",
   "execution_count": 1,
   "metadata": {},
   "outputs": [
    {
     "name": "stderr",
     "output_type": "stream",
     "text": [
      "2024-05-21 13:36:39,176 | INFO     | notebook | <module> | project directory: /data.nst/lucas/projects/mouse_visual_timescales_predictability/paper_code_repo/experiment_analysis\n"
     ]
    }
   ],
   "source": [
    "# ------------------------------------------------------------------------------ #\n",
    "# @Author:        F. Paul Spitzner\n",
    "# @Email:         paul.spitzner@ds.mpg.de\n",
    "# @Created:       2024-03-23 16:05:29\n",
    "# @Last Modified: 2024-03-23 16:06:19\n",
    "# ------------------------------------------------------------------------------ #\n",
    "# Needs the data from `bayes_analysis.ipynb`\n",
    "# ------------------------------------------------------------------------------ #\n",
    "\n",
    "import os\n",
    "import pymc as pm\n",
    "import nutpie\n",
    "import numpy as np\n",
    "import pandas as pd\n",
    "import arviz as az\n",
    "import sys\n",
    "\n",
    "import logging\n",
    "\n",
    "logging.basicConfig(\n",
    "    format=\"%(asctime)s | %(levelname)-8s | %(name)-s | %(funcName)-s | %(message)s\",\n",
    "    level=logging.WARNING,\n",
    ")\n",
    "log = logging.getLogger(\"notebook\")\n",
    "log.setLevel(\"DEBUG\")\n",
    "\n",
    "extra_path = os.path.abspath(\"../\")\n",
    "sys.path.append(extra_path)\n",
    "log.info(f\"project directory: {extra_path}\")\n",
    "\n",
    "from ana import utility as utl\n",
    "from ana import plot_helper as ph\n",
    "from ana import bayesian_models as bm\n",
    "\n",
    "ph.log.setLevel(\"DEBUG\")\n",
    "utl.log.setLevel(\"DEBUG\")\n",
    "\n",
    "data_dir = os.path.abspath(\"../dat\")\n",
    "data_dir = os.path.abspath(\"/data.nst/lucas/projects/mouse_visual_timescales_predictability/paper_code/experiment_analysis/data\")\n"
   ]
  },
  {
   "cell_type": "code",
   "execution_count": null,
   "metadata": {},
   "outputs": [],
   "source": [
    "# Plot hierarchical parameters \n"
   ]
  }
 ],
 "metadata": {
  "kernelspec": {
   "display_name": "Python 3",
   "language": "python",
   "name": "python3"
  },
  "language_info": {
   "codemirror_mode": {
    "name": "ipython",
    "version": 3
   },
   "file_extension": ".py",
   "mimetype": "text/x-python",
   "name": "python",
   "nbconvert_exporter": "python",
   "pygments_lexer": "ipython3",
   "version": "3.11.9"
  }
 },
 "nbformat": 4,
 "nbformat_minor": 2
}
