{
 "cells": [
  {
   "cell_type": "code",
   "execution_count": null,
   "metadata": {},
   "outputs": [],
   "source": [
    "# ------------------------------------------------------------------------------ #\n",
    "# @Author:        F. Paul Spitzner\n",
    "# @Email:         paul.spitzner@ds.mpg.de\n",
    "# @Created:       2024-03-23 16:05:29\n",
    "# @Last Modified: 2024-03-23 16:06:19\n",
    "# ------------------------------------------------------------------------------ #\n",
    "# Needs the data from `bayes_analysis.ipynb`\n",
    "# ------------------------------------------------------------------------------ #\n",
    "\n"
   ]
  }
 ],
 "metadata": {
  "language_info": {
   "name": "python"
  }
 },
 "nbformat": 4,
 "nbformat_minor": 2
}
