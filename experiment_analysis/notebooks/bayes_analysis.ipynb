{
 "cells": [
  {
   "cell_type": "code",
   "execution_count": 1,
   "metadata": {},
   "outputs": [
    {
     "ename": "ModuleNotFoundError",
     "evalue": "No module named 'pymc3'",
     "output_type": "error",
     "traceback": [
      "\u001b[0;31m---------------------------------------------------------------------------\u001b[0m",
      "\u001b[0;31mModuleNotFoundError\u001b[0m                       Traceback (most recent call last)",
      "Cell \u001b[0;32mIn[1], line 13\u001b[0m\n\u001b[1;32m      1\u001b[0m \u001b[38;5;66;03m# ------------------------------------------------------------------------------ #\u001b[39;00m\n\u001b[1;32m      2\u001b[0m \u001b[38;5;66;03m# @Author:        F. Paul Spitzner\u001b[39;00m\n\u001b[1;32m      3\u001b[0m \u001b[38;5;66;03m# @Email:         paul.spitzner@ds.mpg.de\u001b[39;00m\n\u001b[0;32m   (...)\u001b[0m\n\u001b[1;32m      9\u001b[0m \u001b[38;5;66;03m# some time.\u001b[39;00m\n\u001b[1;32m     10\u001b[0m \u001b[38;5;66;03m# ------------------------------------------------------------------------------ #\u001b[39;00m\n\u001b[1;32m     12\u001b[0m \u001b[38;5;28;01mimport\u001b[39;00m \u001b[38;5;21;01mos\u001b[39;00m\n\u001b[0;32m---> 13\u001b[0m \u001b[38;5;28;01mimport\u001b[39;00m \u001b[38;5;21;01mpymc3\u001b[39;00m \u001b[38;5;28;01mas\u001b[39;00m \u001b[38;5;21;01mpm\u001b[39;00m\n\u001b[1;32m     14\u001b[0m \u001b[38;5;28;01mimport\u001b[39;00m \u001b[38;5;21;01mnumpy\u001b[39;00m \u001b[38;5;28;01mas\u001b[39;00m \u001b[38;5;21;01mnp\u001b[39;00m\n\u001b[1;32m     15\u001b[0m \u001b[38;5;28;01mimport\u001b[39;00m \u001b[38;5;21;01mmatplotlib\u001b[39;00m\u001b[38;5;21;01m.\u001b[39;00m\u001b[38;5;21;01mpyplot\u001b[39;00m \u001b[38;5;28;01mas\u001b[39;00m \u001b[38;5;21;01mplt\u001b[39;00m\n",
      "\u001b[0;31mModuleNotFoundError\u001b[0m: No module named 'pymc3'"
     ]
    }
   ],
   "source": [
    "# ------------------------------------------------------------------------------ #\n",
    "# @Author:        F. Paul Spitzner\n",
    "# @Email:         paul.spitzner@ds.mpg.de\n",
    "# @Created:       2024-03-23 16:05:20\n",
    "# @Last Modified: 2024-03-23 16:05:38\n",
    "# ------------------------------------------------------------------------------ #\n",
    "# Here we run the bayesian analysis.\n",
    "# Final plotting is done in a different notebook, as the analysis takes quite\n",
    "# some time.\n",
    "# ------------------------------------------------------------------------------ #\n",
    "\n",
    "import os\n",
    "import pymc as pm\n",
    "import numpy as np\n",
    "import matplotlib.pyplot as plt\n",
    "import pandas as pd\n",
    "import patsy as pt\n",
    "import scipy.stats as st\n",
    "import arviz as az\n",
    "import theano\n",
    "\n",
    "# Files we need to migrate:\n",
    "# - experiment/legacy/plotting/allen_hierarchical_bayes[...].py\n"
   ]
  }
 ],
 "metadata": {
  "kernelspec": {
   "display_name": "its",
   "language": "python",
   "name": "python3"
  },
  "language_info": {
   "codemirror_mode": {
    "name": "ipython",
    "version": 3
   },
   "file_extension": ".py",
   "mimetype": "text/x-python",
   "name": "python",
   "nbconvert_exporter": "python",
   "pygments_lexer": "ipython3",
   "version": "3.11.4"
  }
 },
 "nbformat": 4,
 "nbformat_minor": 2
}
