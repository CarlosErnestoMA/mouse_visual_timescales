{
 "cells": [
  {
   "cell_type": "code",
   "execution_count": 2,
   "metadata": {},
   "outputs": [],
   "source": [
    "# ------------------------------------------------------------------------------ #\n",
    "# @Author:        F. Paul Spitzner\n",
    "# @Email:         paul.spitzner@ds.mpg.de\n",
    "# @Created:       2023-03-09 18:34:52\n",
    "# @Last Modified: 2023-03-09 18:36:57\n",
    "# ------------------------------------------------------------------------------ #\n",
    "# Playground for building / testing the new api.\n",
    "# Will be deleted before accepatance\n",
    "# ------------------------------------------------------------------------------ #\n",
    "\n",
    "\n",
    "%reload_ext autoreload\n",
    "%autoreload 2\n",
    "%reload_ext ipy_dict_hierarchy\n",
    "\n",
    "import logging\n",
    "logging.basicConfig(\n",
    "    format=\"%(asctime)s | %(levelname)-8s | %(name)-12s | %(message)s\",\n",
    "    level=logging.WARNING,\n",
    ")\n",
    "log = logging.getLogger(\"notebook\")\n",
    "log.setLevel(\"DEBUG\")\n",
    "\n",
    "import re\n",
    "import glob\n",
    "import h5py\n",
    "import sys\n",
    "import numpy as np\n",
    "import xarray as xr\n",
    "import pandas as pd\n",
    "\n",
    "from tqdm import tqdm\n",
    "\n",
    "sys.path.append('../')\n",
    "\n",
    "from ana import utility as utl"
   ]
  },
  {
   "cell_type": "code",
   "execution_count": 13,
   "metadata": {},
   "outputs": [
    {
     "name": "stderr",
     "output_type": "stream",
     "text": [
      "2023-08-01 11:22:36,364 | DEBUG    | ana.utility  | Found 0 hdf5 files in ../../gnode/experiment_analysis/\n"
     ]
    },
    {
     "ename": "AssertionError",
     "evalue": "Found no hdf5 files in /Users/paul/para/2_Projects/information_timescales/repo/_latest/gnode/experiment_analysis",
     "output_type": "error",
     "traceback": [
      "\u001b[0;31m---------------------------------------------------------------------------\u001b[0m",
      "\u001b[0;31mAssertionError\u001b[0m                            Traceback (most recent call last)",
      "Cell \u001b[0;32mIn[13], line 3\u001b[0m\n\u001b[1;32m      1\u001b[0m \u001b[39m# specify this as closely as possible, we search recursively through all subdirs\u001b[39;00m\n\u001b[1;32m      2\u001b[0m data_dir \u001b[39m=\u001b[39m \u001b[39m\"\u001b[39m\u001b[39m../../gnode/experiment_analysis/\u001b[39m\u001b[39m\"\u001b[39m\n\u001b[0;32m----> 3\u001b[0m utl\u001b[39m.\u001b[39;49mall_unit_metadata(data_dir, reload\u001b[39m=\u001b[39;49m\u001b[39mTrue\u001b[39;49;00m)\n",
      "File \u001b[0;32m~/para/2_Projects/information_timescales/repo/_latest/experiment_analysis/notebooks/../ana/utility.py:65\u001b[0m, in \u001b[0;36mall_unit_metadata\u001b[0;34m(dir, reload)\u001b[0m\n\u001b[1;32m     63\u001b[0m files \u001b[39m=\u001b[39m glob\u001b[39m.\u001b[39mglob(\u001b[39mdir\u001b[39m \u001b[39m+\u001b[39m \u001b[39m\"\u001b[39m\u001b[39m/**/*.h5\u001b[39m\u001b[39m\"\u001b[39m, recursive\u001b[39m=\u001b[39m\u001b[39mTrue\u001b[39;00m)\n\u001b[1;32m     64\u001b[0m log\u001b[39m.\u001b[39mdebug(\u001b[39mf\u001b[39m\u001b[39m\"\u001b[39m\u001b[39mFound \u001b[39m\u001b[39m{\u001b[39;00m\u001b[39mlen\u001b[39m(files)\u001b[39m}\u001b[39;00m\u001b[39m hdf5 files in \u001b[39m\u001b[39m{\u001b[39;00m\u001b[39mdir\u001b[39m\u001b[39m}\u001b[39;00m\u001b[39m\"\u001b[39m)\n\u001b[0;32m---> 65\u001b[0m \u001b[39massert\u001b[39;00m \u001b[39mlen\u001b[39m(files) \u001b[39m>\u001b[39m \u001b[39m0\u001b[39m, \u001b[39mf\u001b[39m\u001b[39m\"\u001b[39m\u001b[39mFound no hdf5 files in \u001b[39m\u001b[39m{\u001b[39;00mos\u001b[39m.\u001b[39mpath\u001b[39m.\u001b[39mabspath(\u001b[39mdir\u001b[39m)\u001b[39m}\u001b[39;00m\u001b[39m\"\u001b[39m\n\u001b[1;32m     67\u001b[0m meta_df \u001b[39m=\u001b[39m []\n\u001b[1;32m     69\u001b[0m \u001b[39mfor\u001b[39;00m fp \u001b[39min\u001b[39;00m tqdm(files, desc\u001b[39m=\u001b[39m\u001b[39m\"\u001b[39m\u001b[39mFetching metadata from sessions\u001b[39m\u001b[39m\"\u001b[39m):\n",
      "\u001b[0;31mAssertionError\u001b[0m: Found no hdf5 files in /Users/paul/para/2_Projects/information_timescales/repo/_latest/gnode/experiment_analysis"
     ]
    }
   ],
   "source": [
    "# specify this as closely as possible, we search recursively through all subdirs\n",
    "data_dir = \"../../gnode/experiment_analysis/dat/spikes/\"\n",
    "utl.all_unit_metadata(data_dir, reload=True)\n"
   ]
  },
  {
   "cell_type": "code",
   "execution_count": null,
   "metadata": {},
   "outputs": [],
   "source": []
  }
 ],
 "metadata": {
  "kernelspec": {
   "display_name": "its",
   "language": "python",
   "name": "python3"
  },
  "language_info": {
   "codemirror_mode": {
    "name": "ipython",
    "version": 3
   },
   "file_extension": ".py",
   "mimetype": "text/x-python",
   "name": "python",
   "nbconvert_exporter": "python",
   "pygments_lexer": "ipython3",
   "version": "3.11.4"
  },
  "orig_nbformat": 4
 },
 "nbformat": 4,
 "nbformat_minor": 2
}
